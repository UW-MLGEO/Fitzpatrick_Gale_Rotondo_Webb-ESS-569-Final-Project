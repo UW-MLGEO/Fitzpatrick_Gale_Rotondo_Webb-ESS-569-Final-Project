{
 "cells": [
  {
   "cell_type": "code",
   "execution_count": 1,
   "metadata": {},
   "outputs": [],
   "source": [
    "# Import libraries\n",
    "import os\n",
    "import xarray as xr\n",
    "import pandas as pd\n",
    "import numpy as np\n",
    "import matplotlib.pyplot as plt\n",
    "from matplotlib.colors import ListedColormap"
   ]
  },
  {
   "cell_type": "code",
   "execution_count": 2,
   "metadata": {},
   "outputs": [],
   "source": [
    "# Edit this according to your home directory and where you run this code\n",
    "home_path = '/Users/skylargale/Documents/VSCode/'"
   ]
  },
  {
   "cell_type": "code",
   "execution_count": 3,
   "metadata": {},
   "outputs": [],
   "source": [
    "# Step 1: Keep only the relevant data\n",
    "\n",
    "# Define the path where the clean data is stored\n",
    "clean_data_dir = os.path.join(home_path, 'MLGEO2024_SeaIcePrediction/data/clean/')\n",
    "\n",
    "# Load the clean data\n",
    "data = xr.open_dataset(clean_data_dir + 'clean_nh_monthly_sic_19782024.nc')"
   ]
  },
  {
   "cell_type": "code",
   "execution_count": null,
   "metadata": {},
   "outputs": [],
   "source": [
    "# Step 1: Keep only the relevant data\n",
    "\n",
    "# Land mask the data so only values between 0 and 1 are kept (all others become nan)\n",
    "combined_masked = data.where((data['cdr_seaice_conc_monthly'] >= 0) & (data['cdr_seaice_conc_monthly'] <= 1))\n",
    "\n",
    "# Get data only north of 50N\n",
    "combined_north = combined_masked.where(data['lat'] > 50, drop=True)\n",
    "\n",
    "# Regrid the lat x lon to be lon=np.linspace(-180, 180, 1440) and lat=np.linspace(50, 90, 161)\n",
    "combined_regridded = combined_north.interp(lat=np.linspace(50, 90, 161), lon=np.linspace(-180, 180, 1440))\n",
    "\n",
    "# Rename the 'cdr_seaice_conc_monthly' variable for ease of use\n",
    "combined_cleaned = combined_regridded.rename({'cdr_seaice_conc_monthly': 'monthly_sic'})\n",
    "\n",
    "# Keep only September data\n",
    "september_data = combined_cleaned.where(combined_cleaned['time.month'] == 9, drop=True)"
   ]
  },
  {
   "cell_type": "code",
   "execution_count": 14,
   "metadata": {},
   "outputs": [],
   "source": [
    "# Step 2: Save the combined dataset to a new .nc file for ai-ready data\n",
    "output_path = os.join.path(home_path, 'MLGEO2024_SeaIcePrediction/data/ai_ready')\n",
    "output_filename = 'ready_nh_sept_sic_19792023.nc'\n",
    "september_data.to_netcdf(output_filename)\n",
    "print(f'Saved combined dataset to {os.join.path(output_path, output_filename)}')"
   ]
  },
  {
   "cell_type": "code",
   "execution_count": null,
   "metadata": {},
   "outputs": [],
   "source": [
    "# Step 7: Save the combined dataset to a new .nc file for ai-ready data\n",
    "output_filename = 'NH_Sept_SIC_19792023.nc'\n",
    "september_data.to_netcdf(output_filename)\n",
    "print(f'Saved combined dataset to {output_filename}')"
   ]
  },
  {
   "cell_type": "code",
   "execution_count": null,
   "metadata": {},
   "outputs": [],
   "source": [
    "# Step 8: Check output of combined data file\n",
    "ds_test = xr.open_dataset('NH_Sept_SIC_19792023.nc')\n",
    "ds_test"
   ]
  },
  {
   "cell_type": "code",
   "execution_count": null,
   "metadata": {},
   "outputs": [],
   "source": [
    "# Now we can analyze the data in this xarray dataset\n",
    "\n",
    "# For example, we can calculate the mean sea ice concentration over time\n",
    "# sic = ds_test['monthly_sic'].mean(dim='time')\n",
    "\n",
    "# Or select the first month/specific month and year\n",
    "sic = ds_test['monthly_sic'].isel(time=-1)\n",
    "\n",
    "# Or Find the difference between the first and last Septembers\n",
    "# sic = ds_test['monthly_sic'].isel(time=-1) - ds_test['monthly_sic'].isel(time=0)\n",
    "\n",
    "# Get the land mask\n",
    "sic_masked = sic.where(sic <= 1.0)\n",
    "\n",
    "# Mask the NaN values\n",
    "sic_masked = np.ma.masked_invalid(sic_masked)\n",
    "\n",
    "# Define a color map\n",
    "cmap = plt.cm.get_cmap('Blues')\n",
    "cmap.set_bad(color='lightgrey')\n",
    "\n",
    "# Plot the sea ice concentration\n",
    "plt.figure(figsize=(8, 6))\n",
    "\n",
    "# Add the sea ice concentration\n",
    "# plt.contourf(sic_masked, levels=np.linspace(0, 1, 11), cmap=cmap, origin='upper')\n",
    "plt.imshow(sic_masked, cmap=cmap, interpolation='none', aspect='auto')\n",
    "\n",
    "# Add a colorbar\n",
    "plt.colorbar(label='Grid Cell Concentration')\n",
    "\n",
    "# Remove x and y labels\n",
    "plt.gca().set_xticks([])\n",
    "plt.gca().set_yticks([])\n",
    "\n",
    "# Add a title\n",
    "plt.title('Sea Ice Concentration')\n",
    "\n",
    "# Show the plot\n",
    "plt.show()"
   ]
  },
  {
   "cell_type": "code",
   "execution_count": null,
   "metadata": {},
   "outputs": [],
   "source": [
    "# We can also calculate the annual mean sea ice concentration\n",
    "\n",
    "# Want the mean sea ice concentration where the concentration is less than or equal to 1.0\n",
    "sic = np.where(sic <= 1.0, sic, np.nan)\n",
    "\n",
    "# Reshape the first dimension\n",
    "sic = sic.reshape(-1, 1440, 161)\n",
    "\n",
    "# Take the mean of the sea ice concentration each year\n",
    "annual_mean_sic = np.nanmean(sic, axis=(1, 2))\n",
    "\n",
    "# Plot the annual mean sea ice concentration\n",
    "plt.figure(figsize=(10, 6))\n",
    "\n",
    "# Plot the annual mean sea ice concentration\n",
    "plt.plot(annual_mean_sic)\n",
    "\n",
    "# Add a linear trend\n",
    "trend = np.polyfit(range(len(annual_mean_sic)), annual_mean_sic, 1)\n",
    "plt.plot(np.polyval(trend, range(len(annual_mean_sic))), 'r--')\n",
    "\n",
    "# Write the trend in the lower left corner of the plot\n",
    "plt.text(1, 0.01, f'y = {trend[0]:.5f}x + {trend[1]:.5f}', color='red', fontsize=14)\n",
    "\n",
    "# Adjust the x tick labels so they begin at 1978\n",
    "plt.xticks(range(0, len(annual_mean_sic), 5), range(1979, 2024, 5)[:len(range(0, len(annual_mean_sic), 5))])\n",
    "\n",
    "# Add a grid\n",
    "plt.xlim(0, len(annual_mean_sic))\n",
    "plt.grid()\n",
    "\n",
    "# Add labels and a title\n",
    "plt.xlabel('Year')\n",
    "plt.ylabel('Mean Sea Ice Concentration')\n",
    "plt.title('September Mean Sea Ice Concentration')\n",
    "\n",
    "# Show the plot\n",
    "plt.show()"
   ]
  },
  {
   "cell_type": "code",
   "execution_count": null,
   "metadata": {},
   "outputs": [],
   "source": []
  }
 ],
 "metadata": {
  "kernelspec": {
   "display_name": "Python 3",
   "language": "python",
   "name": "python3"
  },
  "language_info": {
   "codemirror_mode": {
    "name": "ipython",
    "version": 3
   },
   "file_extension": ".py",
   "mimetype": "text/x-python",
   "name": "python",
   "nbconvert_exporter": "python",
   "pygments_lexer": "ipython3",
   "version": "3.13.0"
  }
 },
 "nbformat": 4,
 "nbformat_minor": 2
}
