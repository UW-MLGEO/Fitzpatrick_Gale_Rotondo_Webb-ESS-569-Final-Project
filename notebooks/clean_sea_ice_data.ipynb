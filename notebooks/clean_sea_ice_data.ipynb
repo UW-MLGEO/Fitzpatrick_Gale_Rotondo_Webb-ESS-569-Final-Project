{
 "cells": [
  {
   "cell_type": "code",
   "execution_count": 6,
   "metadata": {},
   "outputs": [],
   "source": [
    "# Import libraries\n",
    "import os\n",
    "import xarray as xr\n",
    "import pandas as pd\n",
    "import numpy as np"
   ]
  },
  {
   "cell_type": "code",
   "execution_count": 2,
   "metadata": {},
   "outputs": [],
   "source": [
    "# Edit this according to your home directory and where you run this code\n",
    "home_path = '/Users/skylargale/Documents/VSCode/'"
   ]
  },
  {
   "cell_type": "code",
   "execution_count": 3,
   "metadata": {},
   "outputs": [],
   "source": [
    "# Step 1: Combine the .nc files\n",
    "\n",
    "# Define the directory where the raw data is stored\n",
    "raw_data_dir = os.path.join(home_path, 'MLGEO2024_SeaIcePrediction/data/raw/seaice_conc')\n",
    "nc_files = [os.path.join(raw_data_dir, filename) for filename in os.listdir(raw_data_dir) if filename.endswith('.nc')]\n",
    "\n",
    "# Prepare an empty list to store the modified datasets\n",
    "datasets = []\n",
    "\n",
    "# Define time points (adjust according to your actual time steps)\n",
    "time_points = pd.date_range(start='1978-11-01', periods=len(nc_files), freq='MS')\n",
    "\n",
    "# Loop through each file, open it, and assign a time coordinate\n",
    "for i, nc_file in enumerate(nc_files):\n",
    "    # Open the dataset\n",
    "    ds = xr.open_dataset(nc_file)\n",
    "    \n",
    "    # Assign a time coordinate\n",
    "    ds = ds.assign_coords(time=time_points[i])  # Assign the unique time coordinate\n",
    "    ds = ds.expand_dims(dim='time')  # Expand to add time dimension of size 1\n",
    "    \n",
    "    # Append the modified dataset to the list\n",
    "    datasets.append(ds)"
   ]
  },
  {
   "cell_type": "code",
   "execution_count": 4,
   "metadata": {},
   "outputs": [],
   "source": [
    "# Step 2: Concatenate and clean up the data\n",
    "\n",
    "# Concatenate the datasets along the time dimension\n",
    "combined_ds = xr.concat(datasets, dim='time')\n",
    "\n",
    "# Drop the 'tdim' dimension\n",
    "combined_squeezed = combined_ds.squeeze('tdim')"
   ]
  },
  {
   "cell_type": "code",
   "execution_count": 7,
   "metadata": {},
   "outputs": [],
   "source": [
    "# Step 3: Regrid the data\n",
    "\n",
    "# Replace xgrid and ygrid with lat and lon\n",
    "combined_renamed = combined_squeezed.rename({'x': 'lon', 'y': 'lat'})\n",
    "\n",
    "# Drop the xgrid and ygrid variables\n",
    "combined_dropped = combined_renamed.drop_vars(['xgrid', 'ygrid'], errors='ignore')\n",
    "\n",
    "# Assign the lat and lon coordinates\n",
    "combined_gridded = combined_dropped.assign_coords(lon=np.linspace(-180, 180, 304), lat=np.linspace(31.35, 90, 448))"
   ]
  },
  {
   "cell_type": "code",
   "execution_count": 8,
   "metadata": {},
   "outputs": [
    {
     "name": "stdout",
     "output_type": "stream",
     "text": [
      "Saved combined dataset to /Users/skylargale/Documents/VSCode/MLGEO2024_SeaIcePrediction/data/clean/clean_nh_monthly_sic_19782024.nc\n"
     ]
    }
   ],
   "source": [
    "# Step 4: Save the combined dataset to a new .nc file for ai-ready data\n",
    "output_filename = 'clean_nh_monthly_sic_19782024.nc'\n",
    "clean_data_dir = os.path.join(home_path, 'MLGEO2024_SeaIcePrediction/data/clean')\n",
    "combined_gridded.to_netcdf(output_filename)\n",
    "print(f'Saved combined dataset to {os.path.join(clean_data_dir, output_filename)}')"
   ]
  },
  {
   "cell_type": "code",
   "execution_count": null,
   "metadata": {},
   "outputs": [],
   "source": []
  }
 ],
 "metadata": {
  "kernelspec": {
   "display_name": "Python 3",
   "language": "python",
   "name": "python3"
  },
  "language_info": {
   "codemirror_mode": {
    "name": "ipython",
    "version": 3
   },
   "file_extension": ".py",
   "mimetype": "text/x-python",
   "name": "python",
   "nbconvert_exporter": "python",
   "pygments_lexer": "ipython3",
   "version": "3.13.0"
  }
 },
 "nbformat": 4,
 "nbformat_minor": 2
}
